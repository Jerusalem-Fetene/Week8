{
  "cells": [
    {
      "cell_type": "code",
      "execution_count": 1,
      "metadata": {
        "id": "O7s2TTnqry8Q"
      },
      "outputs": [],
      "source": [
        "import pandas as pd\n",
        "import numpy as np"
      ]
    },
    {
      "cell_type": "code",
      "execution_count": 2,
      "metadata": {
        "id": "4If7t2Jqr2U8"
      },
      "outputs": [],
      "source": [
        "df_fraud=pd.read_csv('../Data/fraud_preprocessed.csv')\n",
        "df_credit=pd.read_csv('../Data/credit_clean.csv')"
      ]
    },
    {
      "cell_type": "code",
      "execution_count": 3,
      "metadata": {
        "colab": {
          "base_uri": "https://localhost:8080/",
          "height": 360
        },
        "id": "dMVa7ibTscwN",
        "outputId": "adc320ab-7a6f-4e58-d7a2-b977df2b30fc"
      },
      "outputs": [
        {
          "data": {
            "text/html": [
              "<div>\n",
              "<style scoped>\n",
              "    .dataframe tbody tr th:only-of-type {\n",
              "        vertical-align: middle;\n",
              "    }\n",
              "\n",
              "    .dataframe tbody tr th {\n",
              "        vertical-align: top;\n",
              "    }\n",
              "\n",
              "    .dataframe thead th {\n",
              "        text-align: right;\n",
              "    }\n",
              "</style>\n",
              "<table border=\"1\" class=\"dataframe\">\n",
              "  <thead>\n",
              "    <tr style=\"text-align: right;\">\n",
              "      <th></th>\n",
              "      <th>user_id</th>\n",
              "      <th>signup_time</th>\n",
              "      <th>purchase_time</th>\n",
              "      <th>purchase_value</th>\n",
              "      <th>device_id</th>\n",
              "      <th>age</th>\n",
              "      <th>ip_address</th>\n",
              "      <th>class</th>\n",
              "      <th>hour_of_day</th>\n",
              "      <th>day_of_week</th>\n",
              "      <th>...</th>\n",
              "      <th>country_United States</th>\n",
              "      <th>country_Uruguay</th>\n",
              "      <th>country_Uzbekistan</th>\n",
              "      <th>country_Vanuatu</th>\n",
              "      <th>country_Venezuela</th>\n",
              "      <th>country_Viet Nam</th>\n",
              "      <th>country_Virgin Islands (U.S.)</th>\n",
              "      <th>country_Yemen</th>\n",
              "      <th>country_Zambia</th>\n",
              "      <th>country_Zimbabwe</th>\n",
              "    </tr>\n",
              "  </thead>\n",
              "  <tbody>\n",
              "    <tr>\n",
              "      <th>0</th>\n",
              "      <td>2</td>\n",
              "      <td>2015-01-11 03:47:13</td>\n",
              "      <td>2015-02-21 10:03:37</td>\n",
              "      <td>0.310345</td>\n",
              "      <td>FGBQNDNBETFJJ</td>\n",
              "      <td>0.120690</td>\n",
              "      <td>880217484</td>\n",
              "      <td>0</td>\n",
              "      <td>10</td>\n",
              "      <td>5</td>\n",
              "      <td>...</td>\n",
              "      <td>1.0</td>\n",
              "      <td>0.0</td>\n",
              "      <td>0.0</td>\n",
              "      <td>0.0</td>\n",
              "      <td>0.0</td>\n",
              "      <td>0.0</td>\n",
              "      <td>0.0</td>\n",
              "      <td>0.0</td>\n",
              "      <td>0.0</td>\n",
              "      <td>0.0</td>\n",
              "    </tr>\n",
              "    <tr>\n",
              "      <th>1</th>\n",
              "      <td>4</td>\n",
              "      <td>2015-06-02 16:40:57</td>\n",
              "      <td>2015-09-26 21:32:16</td>\n",
              "      <td>0.220690</td>\n",
              "      <td>MKFUIVOHLJBYN</td>\n",
              "      <td>0.344828</td>\n",
              "      <td>2785906106</td>\n",
              "      <td>0</td>\n",
              "      <td>21</td>\n",
              "      <td>5</td>\n",
              "      <td>...</td>\n",
              "      <td>0.0</td>\n",
              "      <td>0.0</td>\n",
              "      <td>0.0</td>\n",
              "      <td>0.0</td>\n",
              "      <td>0.0</td>\n",
              "      <td>0.0</td>\n",
              "      <td>0.0</td>\n",
              "      <td>0.0</td>\n",
              "      <td>0.0</td>\n",
              "      <td>0.0</td>\n",
              "    </tr>\n",
              "    <tr>\n",
              "      <th>2</th>\n",
              "      <td>8</td>\n",
              "      <td>2015-05-28 07:53:06</td>\n",
              "      <td>2015-08-13 11:53:07</td>\n",
              "      <td>0.262069</td>\n",
              "      <td>SCQGQALXBUQZJ</td>\n",
              "      <td>0.120690</td>\n",
              "      <td>356056736</td>\n",
              "      <td>0</td>\n",
              "      <td>11</td>\n",
              "      <td>3</td>\n",
              "      <td>...</td>\n",
              "      <td>1.0</td>\n",
              "      <td>0.0</td>\n",
              "      <td>0.0</td>\n",
              "      <td>0.0</td>\n",
              "      <td>0.0</td>\n",
              "      <td>0.0</td>\n",
              "      <td>0.0</td>\n",
              "      <td>0.0</td>\n",
              "      <td>0.0</td>\n",
              "      <td>0.0</td>\n",
              "    </tr>\n",
              "    <tr>\n",
              "      <th>3</th>\n",
              "      <td>12</td>\n",
              "      <td>2015-01-10 06:25:12</td>\n",
              "      <td>2015-03-04 20:56:37</td>\n",
              "      <td>0.179310</td>\n",
              "      <td>MSNWCFEHKTIOY</td>\n",
              "      <td>0.017241</td>\n",
              "      <td>2985180352</td>\n",
              "      <td>0</td>\n",
              "      <td>20</td>\n",
              "      <td>2</td>\n",
              "      <td>...</td>\n",
              "      <td>0.0</td>\n",
              "      <td>0.0</td>\n",
              "      <td>0.0</td>\n",
              "      <td>0.0</td>\n",
              "      <td>0.0</td>\n",
              "      <td>0.0</td>\n",
              "      <td>0.0</td>\n",
              "      <td>0.0</td>\n",
              "      <td>0.0</td>\n",
              "      <td>0.0</td>\n",
              "    </tr>\n",
              "    <tr>\n",
              "      <th>4</th>\n",
              "      <td>16</td>\n",
              "      <td>2015-02-03 13:48:23</td>\n",
              "      <td>2015-03-12 12:46:23</td>\n",
              "      <td>0.000000</td>\n",
              "      <td>FROZWSSWOHZBE</td>\n",
              "      <td>0.241379</td>\n",
              "      <td>578312545</td>\n",
              "      <td>0</td>\n",
              "      <td>12</td>\n",
              "      <td>3</td>\n",
              "      <td>...</td>\n",
              "      <td>1.0</td>\n",
              "      <td>0.0</td>\n",
              "      <td>0.0</td>\n",
              "      <td>0.0</td>\n",
              "      <td>0.0</td>\n",
              "      <td>0.0</td>\n",
              "      <td>0.0</td>\n",
              "      <td>0.0</td>\n",
              "      <td>0.0</td>\n",
              "      <td>0.0</td>\n",
              "    </tr>\n",
              "  </tbody>\n",
              "</table>\n",
              "<p>5 rows × 203 columns</p>\n",
              "</div>"
            ],
            "text/plain": [
              "   user_id          signup_time        purchase_time  purchase_value  \\\n",
              "0        2  2015-01-11 03:47:13  2015-02-21 10:03:37        0.310345   \n",
              "1        4  2015-06-02 16:40:57  2015-09-26 21:32:16        0.220690   \n",
              "2        8  2015-05-28 07:53:06  2015-08-13 11:53:07        0.262069   \n",
              "3       12  2015-01-10 06:25:12  2015-03-04 20:56:37        0.179310   \n",
              "4       16  2015-02-03 13:48:23  2015-03-12 12:46:23        0.000000   \n",
              "\n",
              "       device_id       age  ip_address  class  hour_of_day  day_of_week  ...  \\\n",
              "0  FGBQNDNBETFJJ  0.120690   880217484      0           10            5  ...   \n",
              "1  MKFUIVOHLJBYN  0.344828  2785906106      0           21            5  ...   \n",
              "2  SCQGQALXBUQZJ  0.120690   356056736      0           11            3  ...   \n",
              "3  MSNWCFEHKTIOY  0.017241  2985180352      0           20            2  ...   \n",
              "4  FROZWSSWOHZBE  0.241379   578312545      0           12            3  ...   \n",
              "\n",
              "   country_United States  country_Uruguay  country_Uzbekistan  \\\n",
              "0                    1.0              0.0                 0.0   \n",
              "1                    0.0              0.0                 0.0   \n",
              "2                    1.0              0.0                 0.0   \n",
              "3                    0.0              0.0                 0.0   \n",
              "4                    1.0              0.0                 0.0   \n",
              "\n",
              "   country_Vanuatu  country_Venezuela  country_Viet Nam  \\\n",
              "0              0.0                0.0               0.0   \n",
              "1              0.0                0.0               0.0   \n",
              "2              0.0                0.0               0.0   \n",
              "3              0.0                0.0               0.0   \n",
              "4              0.0                0.0               0.0   \n",
              "\n",
              "   country_Virgin Islands (U.S.)  country_Yemen  country_Zambia  \\\n",
              "0                            0.0            0.0             0.0   \n",
              "1                            0.0            0.0             0.0   \n",
              "2                            0.0            0.0             0.0   \n",
              "3                            0.0            0.0             0.0   \n",
              "4                            0.0            0.0             0.0   \n",
              "\n",
              "   country_Zimbabwe  \n",
              "0               0.0  \n",
              "1               0.0  \n",
              "2               0.0  \n",
              "3               0.0  \n",
              "4               0.0  \n",
              "\n",
              "[5 rows x 203 columns]"
            ]
          },
          "execution_count": 3,
          "metadata": {},
          "output_type": "execute_result"
        }
      ],
      "source": [
        "df_fraud.head()"
      ]
    },
    {
      "cell_type": "code",
      "execution_count": 4,
      "metadata": {
        "colab": {
          "base_uri": "https://localhost:8080/",
          "height": 256
        },
        "id": "rGRdu7Wcsk_F",
        "outputId": "4c418390-2c13-4ced-feb5-64638e43b5e0"
      },
      "outputs": [
        {
          "data": {
            "application/vnd.google.colaboratory.intrinsic+json": {
              "type": "dataframe",
              "variable_name": "df_credit"
            },
            "text/html": [
              "\n",
              "  <div id=\"df-3ae1598d-17e2-4591-a67f-c1f9943e7c97\" class=\"colab-df-container\">\n",
              "    <div>\n",
              "<style scoped>\n",
              "    .dataframe tbody tr th:only-of-type {\n",
              "        vertical-align: middle;\n",
              "    }\n",
              "\n",
              "    .dataframe tbody tr th {\n",
              "        vertical-align: top;\n",
              "    }\n",
              "\n",
              "    .dataframe thead th {\n",
              "        text-align: right;\n",
              "    }\n",
              "</style>\n",
              "<table border=\"1\" class=\"dataframe\">\n",
              "  <thead>\n",
              "    <tr style=\"text-align: right;\">\n",
              "      <th></th>\n",
              "      <th>Time</th>\n",
              "      <th>V1</th>\n",
              "      <th>V2</th>\n",
              "      <th>V3</th>\n",
              "      <th>V4</th>\n",
              "      <th>V5</th>\n",
              "      <th>V6</th>\n",
              "      <th>V7</th>\n",
              "      <th>V8</th>\n",
              "      <th>V9</th>\n",
              "      <th>...</th>\n",
              "      <th>V21</th>\n",
              "      <th>V22</th>\n",
              "      <th>V23</th>\n",
              "      <th>V24</th>\n",
              "      <th>V25</th>\n",
              "      <th>V26</th>\n",
              "      <th>V27</th>\n",
              "      <th>V28</th>\n",
              "      <th>Amount</th>\n",
              "      <th>Class</th>\n",
              "    </tr>\n",
              "  </thead>\n",
              "  <tbody>\n",
              "    <tr>\n",
              "      <th>0</th>\n",
              "      <td>0.0</td>\n",
              "      <td>-1.359807</td>\n",
              "      <td>-0.072781</td>\n",
              "      <td>2.536347</td>\n",
              "      <td>1.378155</td>\n",
              "      <td>-0.338321</td>\n",
              "      <td>0.462388</td>\n",
              "      <td>0.239599</td>\n",
              "      <td>0.098698</td>\n",
              "      <td>0.363787</td>\n",
              "      <td>...</td>\n",
              "      <td>-0.018307</td>\n",
              "      <td>0.277838</td>\n",
              "      <td>-0.110474</td>\n",
              "      <td>0.066928</td>\n",
              "      <td>0.128539</td>\n",
              "      <td>-0.189115</td>\n",
              "      <td>0.133558</td>\n",
              "      <td>-0.021053</td>\n",
              "      <td>149.62</td>\n",
              "      <td>0.0</td>\n",
              "    </tr>\n",
              "    <tr>\n",
              "      <th>1</th>\n",
              "      <td>0.0</td>\n",
              "      <td>1.191857</td>\n",
              "      <td>0.266151</td>\n",
              "      <td>0.166480</td>\n",
              "      <td>0.448154</td>\n",
              "      <td>0.060018</td>\n",
              "      <td>-0.082361</td>\n",
              "      <td>-0.078803</td>\n",
              "      <td>0.085102</td>\n",
              "      <td>-0.255425</td>\n",
              "      <td>...</td>\n",
              "      <td>-0.225775</td>\n",
              "      <td>-0.638672</td>\n",
              "      <td>0.101288</td>\n",
              "      <td>-0.339846</td>\n",
              "      <td>0.167170</td>\n",
              "      <td>0.125895</td>\n",
              "      <td>-0.008983</td>\n",
              "      <td>0.014724</td>\n",
              "      <td>2.69</td>\n",
              "      <td>0.0</td>\n",
              "    </tr>\n",
              "    <tr>\n",
              "      <th>2</th>\n",
              "      <td>1.0</td>\n",
              "      <td>-1.358354</td>\n",
              "      <td>-1.340163</td>\n",
              "      <td>1.773209</td>\n",
              "      <td>0.379780</td>\n",
              "      <td>-0.503198</td>\n",
              "      <td>1.800499</td>\n",
              "      <td>0.791461</td>\n",
              "      <td>0.247676</td>\n",
              "      <td>-1.514654</td>\n",
              "      <td>...</td>\n",
              "      <td>0.247998</td>\n",
              "      <td>0.771679</td>\n",
              "      <td>0.909412</td>\n",
              "      <td>-0.689281</td>\n",
              "      <td>-0.327642</td>\n",
              "      <td>-0.139097</td>\n",
              "      <td>-0.055353</td>\n",
              "      <td>-0.059752</td>\n",
              "      <td>378.66</td>\n",
              "      <td>0.0</td>\n",
              "    </tr>\n",
              "    <tr>\n",
              "      <th>3</th>\n",
              "      <td>1.0</td>\n",
              "      <td>-0.966272</td>\n",
              "      <td>-0.185226</td>\n",
              "      <td>1.792993</td>\n",
              "      <td>-0.863291</td>\n",
              "      <td>-0.010309</td>\n",
              "      <td>1.247203</td>\n",
              "      <td>0.237609</td>\n",
              "      <td>0.377436</td>\n",
              "      <td>-1.387024</td>\n",
              "      <td>...</td>\n",
              "      <td>-0.108300</td>\n",
              "      <td>0.005274</td>\n",
              "      <td>-0.190321</td>\n",
              "      <td>-1.175575</td>\n",
              "      <td>0.647376</td>\n",
              "      <td>-0.221929</td>\n",
              "      <td>0.062723</td>\n",
              "      <td>0.061458</td>\n",
              "      <td>123.50</td>\n",
              "      <td>0.0</td>\n",
              "    </tr>\n",
              "    <tr>\n",
              "      <th>4</th>\n",
              "      <td>2.0</td>\n",
              "      <td>-1.158233</td>\n",
              "      <td>0.877737</td>\n",
              "      <td>1.548718</td>\n",
              "      <td>0.403034</td>\n",
              "      <td>-0.407193</td>\n",
              "      <td>0.095921</td>\n",
              "      <td>0.592941</td>\n",
              "      <td>-0.270533</td>\n",
              "      <td>0.817739</td>\n",
              "      <td>...</td>\n",
              "      <td>-0.009431</td>\n",
              "      <td>0.798278</td>\n",
              "      <td>-0.137458</td>\n",
              "      <td>0.141267</td>\n",
              "      <td>-0.206010</td>\n",
              "      <td>0.502292</td>\n",
              "      <td>0.219422</td>\n",
              "      <td>0.215153</td>\n",
              "      <td>69.99</td>\n",
              "      <td>0.0</td>\n",
              "    </tr>\n",
              "  </tbody>\n",
              "</table>\n",
              "<p>5 rows × 31 columns</p>\n",
              "</div>\n",
              "    <div class=\"colab-df-buttons\">\n",
              "\n",
              "  <div class=\"colab-df-container\">\n",
              "    <button class=\"colab-df-convert\" onclick=\"convertToInteractive('df-3ae1598d-17e2-4591-a67f-c1f9943e7c97')\"\n",
              "            title=\"Convert this dataframe to an interactive table.\"\n",
              "            style=\"display:none;\">\n",
              "\n",
              "  <svg xmlns=\"http://www.w3.org/2000/svg\" height=\"24px\" viewBox=\"0 -960 960 960\">\n",
              "    <path d=\"M120-120v-720h720v720H120Zm60-500h600v-160H180v160Zm220 220h160v-160H400v160Zm0 220h160v-160H400v160ZM180-400h160v-160H180v160Zm440 0h160v-160H620v160ZM180-180h160v-160H180v160Zm440 0h160v-160H620v160Z\"/>\n",
              "  </svg>\n",
              "    </button>\n",
              "\n",
              "  <style>\n",
              "    .colab-df-container {\n",
              "      display:flex;\n",
              "      gap: 12px;\n",
              "    }\n",
              "\n",
              "    .colab-df-convert {\n",
              "      background-color: #E8F0FE;\n",
              "      border: none;\n",
              "      border-radius: 50%;\n",
              "      cursor: pointer;\n",
              "      display: none;\n",
              "      fill: #1967D2;\n",
              "      height: 32px;\n",
              "      padding: 0 0 0 0;\n",
              "      width: 32px;\n",
              "    }\n",
              "\n",
              "    .colab-df-convert:hover {\n",
              "      background-color: #E2EBFA;\n",
              "      box-shadow: 0px 1px 2px rgba(60, 64, 67, 0.3), 0px 1px 3px 1px rgba(60, 64, 67, 0.15);\n",
              "      fill: #174EA6;\n",
              "    }\n",
              "\n",
              "    .colab-df-buttons div {\n",
              "      margin-bottom: 4px;\n",
              "    }\n",
              "\n",
              "    [theme=dark] .colab-df-convert {\n",
              "      background-color: #3B4455;\n",
              "      fill: #D2E3FC;\n",
              "    }\n",
              "\n",
              "    [theme=dark] .colab-df-convert:hover {\n",
              "      background-color: #434B5C;\n",
              "      box-shadow: 0px 1px 3px 1px rgba(0, 0, 0, 0.15);\n",
              "      filter: drop-shadow(0px 1px 2px rgba(0, 0, 0, 0.3));\n",
              "      fill: #FFFFFF;\n",
              "    }\n",
              "  </style>\n",
              "\n",
              "    <script>\n",
              "      const buttonEl =\n",
              "        document.querySelector('#df-3ae1598d-17e2-4591-a67f-c1f9943e7c97 button.colab-df-convert');\n",
              "      buttonEl.style.display =\n",
              "        google.colab.kernel.accessAllowed ? 'block' : 'none';\n",
              "\n",
              "      async function convertToInteractive(key) {\n",
              "        const element = document.querySelector('#df-3ae1598d-17e2-4591-a67f-c1f9943e7c97');\n",
              "        const dataTable =\n",
              "          await google.colab.kernel.invokeFunction('convertToInteractive',\n",
              "                                                    [key], {});\n",
              "        if (!dataTable) return;\n",
              "\n",
              "        const docLinkHtml = 'Like what you see? Visit the ' +\n",
              "          '<a target=\"_blank\" href=https://colab.research.google.com/notebooks/data_table.ipynb>data table notebook</a>'\n",
              "          + ' to learn more about interactive tables.';\n",
              "        element.innerHTML = '';\n",
              "        dataTable['output_type'] = 'display_data';\n",
              "        await google.colab.output.renderOutput(dataTable, element);\n",
              "        const docLink = document.createElement('div');\n",
              "        docLink.innerHTML = docLinkHtml;\n",
              "        element.appendChild(docLink);\n",
              "      }\n",
              "    </script>\n",
              "  </div>\n",
              "\n",
              "\n",
              "<div id=\"df-f8497b18-66f1-4ea7-8669-59d887768e7a\">\n",
              "  <button class=\"colab-df-quickchart\" onclick=\"quickchart('df-f8497b18-66f1-4ea7-8669-59d887768e7a')\"\n",
              "            title=\"Suggest charts\"\n",
              "            style=\"display:none;\">\n",
              "\n",
              "<svg xmlns=\"http://www.w3.org/2000/svg\" height=\"24px\"viewBox=\"0 0 24 24\"\n",
              "     width=\"24px\">\n",
              "    <g>\n",
              "        <path d=\"M19 3H5c-1.1 0-2 .9-2 2v14c0 1.1.9 2 2 2h14c1.1 0 2-.9 2-2V5c0-1.1-.9-2-2-2zM9 17H7v-7h2v7zm4 0h-2V7h2v10zm4 0h-2v-4h2v4z\"/>\n",
              "    </g>\n",
              "</svg>\n",
              "  </button>\n",
              "\n",
              "<style>\n",
              "  .colab-df-quickchart {\n",
              "      --bg-color: #E8F0FE;\n",
              "      --fill-color: #1967D2;\n",
              "      --hover-bg-color: #E2EBFA;\n",
              "      --hover-fill-color: #174EA6;\n",
              "      --disabled-fill-color: #AAA;\n",
              "      --disabled-bg-color: #DDD;\n",
              "  }\n",
              "\n",
              "  [theme=dark] .colab-df-quickchart {\n",
              "      --bg-color: #3B4455;\n",
              "      --fill-color: #D2E3FC;\n",
              "      --hover-bg-color: #434B5C;\n",
              "      --hover-fill-color: #FFFFFF;\n",
              "      --disabled-bg-color: #3B4455;\n",
              "      --disabled-fill-color: #666;\n",
              "  }\n",
              "\n",
              "  .colab-df-quickchart {\n",
              "    background-color: var(--bg-color);\n",
              "    border: none;\n",
              "    border-radius: 50%;\n",
              "    cursor: pointer;\n",
              "    display: none;\n",
              "    fill: var(--fill-color);\n",
              "    height: 32px;\n",
              "    padding: 0;\n",
              "    width: 32px;\n",
              "  }\n",
              "\n",
              "  .colab-df-quickchart:hover {\n",
              "    background-color: var(--hover-bg-color);\n",
              "    box-shadow: 0 1px 2px rgba(60, 64, 67, 0.3), 0 1px 3px 1px rgba(60, 64, 67, 0.15);\n",
              "    fill: var(--button-hover-fill-color);\n",
              "  }\n",
              "\n",
              "  .colab-df-quickchart-complete:disabled,\n",
              "  .colab-df-quickchart-complete:disabled:hover {\n",
              "    background-color: var(--disabled-bg-color);\n",
              "    fill: var(--disabled-fill-color);\n",
              "    box-shadow: none;\n",
              "  }\n",
              "\n",
              "  .colab-df-spinner {\n",
              "    border: 2px solid var(--fill-color);\n",
              "    border-color: transparent;\n",
              "    border-bottom-color: var(--fill-color);\n",
              "    animation:\n",
              "      spin 1s steps(1) infinite;\n",
              "  }\n",
              "\n",
              "  @keyframes spin {\n",
              "    0% {\n",
              "      border-color: transparent;\n",
              "      border-bottom-color: var(--fill-color);\n",
              "      border-left-color: var(--fill-color);\n",
              "    }\n",
              "    20% {\n",
              "      border-color: transparent;\n",
              "      border-left-color: var(--fill-color);\n",
              "      border-top-color: var(--fill-color);\n",
              "    }\n",
              "    30% {\n",
              "      border-color: transparent;\n",
              "      border-left-color: var(--fill-color);\n",
              "      border-top-color: var(--fill-color);\n",
              "      border-right-color: var(--fill-color);\n",
              "    }\n",
              "    40% {\n",
              "      border-color: transparent;\n",
              "      border-right-color: var(--fill-color);\n",
              "      border-top-color: var(--fill-color);\n",
              "    }\n",
              "    60% {\n",
              "      border-color: transparent;\n",
              "      border-right-color: var(--fill-color);\n",
              "    }\n",
              "    80% {\n",
              "      border-color: transparent;\n",
              "      border-right-color: var(--fill-color);\n",
              "      border-bottom-color: var(--fill-color);\n",
              "    }\n",
              "    90% {\n",
              "      border-color: transparent;\n",
              "      border-bottom-color: var(--fill-color);\n",
              "    }\n",
              "  }\n",
              "</style>\n",
              "\n",
              "  <script>\n",
              "    async function quickchart(key) {\n",
              "      const quickchartButtonEl =\n",
              "        document.querySelector('#' + key + ' button');\n",
              "      quickchartButtonEl.disabled = true;  // To prevent multiple clicks.\n",
              "      quickchartButtonEl.classList.add('colab-df-spinner');\n",
              "      try {\n",
              "        const charts = await google.colab.kernel.invokeFunction(\n",
              "            'suggestCharts', [key], {});\n",
              "      } catch (error) {\n",
              "        console.error('Error during call to suggestCharts:', error);\n",
              "      }\n",
              "      quickchartButtonEl.classList.remove('colab-df-spinner');\n",
              "      quickchartButtonEl.classList.add('colab-df-quickchart-complete');\n",
              "    }\n",
              "    (() => {\n",
              "      let quickchartButtonEl =\n",
              "        document.querySelector('#df-f8497b18-66f1-4ea7-8669-59d887768e7a button');\n",
              "      quickchartButtonEl.style.display =\n",
              "        google.colab.kernel.accessAllowed ? 'block' : 'none';\n",
              "    })();\n",
              "  </script>\n",
              "</div>\n",
              "\n",
              "    </div>\n",
              "  </div>\n"
            ],
            "text/plain": [
              "   Time        V1        V2        V3        V4        V5        V6        V7  \\\n",
              "0   0.0 -1.359807 -0.072781  2.536347  1.378155 -0.338321  0.462388  0.239599   \n",
              "1   0.0  1.191857  0.266151  0.166480  0.448154  0.060018 -0.082361 -0.078803   \n",
              "2   1.0 -1.358354 -1.340163  1.773209  0.379780 -0.503198  1.800499  0.791461   \n",
              "3   1.0 -0.966272 -0.185226  1.792993 -0.863291 -0.010309  1.247203  0.237609   \n",
              "4   2.0 -1.158233  0.877737  1.548718  0.403034 -0.407193  0.095921  0.592941   \n",
              "\n",
              "         V8        V9  ...       V21       V22       V23       V24       V25  \\\n",
              "0  0.098698  0.363787  ... -0.018307  0.277838 -0.110474  0.066928  0.128539   \n",
              "1  0.085102 -0.255425  ... -0.225775 -0.638672  0.101288 -0.339846  0.167170   \n",
              "2  0.247676 -1.514654  ...  0.247998  0.771679  0.909412 -0.689281 -0.327642   \n",
              "3  0.377436 -1.387024  ... -0.108300  0.005274 -0.190321 -1.175575  0.647376   \n",
              "4 -0.270533  0.817739  ... -0.009431  0.798278 -0.137458  0.141267 -0.206010   \n",
              "\n",
              "        V26       V27       V28  Amount  Class  \n",
              "0 -0.189115  0.133558 -0.021053  149.62    0.0  \n",
              "1  0.125895 -0.008983  0.014724    2.69    0.0  \n",
              "2 -0.139097 -0.055353 -0.059752  378.66    0.0  \n",
              "3 -0.221929  0.062723  0.061458  123.50    0.0  \n",
              "4  0.502292  0.219422  0.215153   69.99    0.0  \n",
              "\n",
              "[5 rows x 31 columns]"
            ]
          },
          "execution_count": 4,
          "metadata": {},
          "output_type": "execute_result"
        }
      ],
      "source": [
        "df_credit.head()"
      ]
    },
    {
      "cell_type": "code",
      "execution_count": 3,
      "metadata": {
        "id": "asOcTJHXujkZ"
      },
      "outputs": [],
      "source": [
        "import pandas as pd\n",
        "from sklearn.model_selection import train_test_split\n",
        "from sklearn.linear_model import LogisticRegression\n",
        "from sklearn.tree import DecisionTreeClassifier\n",
        "from sklearn.ensemble import RandomForestClassifier, GradientBoostingClassifier\n",
        "from sklearn.neural_network import MLPClassifier\n",
        "from sklearn.metrics import classification_report, accuracy_score, precision_score, recall_score, f1_score\n",
        "from sklearn.impute import SimpleImputer\n",
        "import mlflow\n",
        "import mlflow.sklearn\n",
        "from tensorflow.keras.models import Sequential\n",
        "from tensorflow.keras.layers import Conv1D, MaxPooling1D, Flatten, Dense, SimpleRNN, LSTM"
      ]
    },
    {
      "cell_type": "code",
      "execution_count": 4,
      "metadata": {
        "id": "z1DVa019w6JM"
      },
      "outputs": [],
      "source": [
        "def preprocess_fraud_data(df):\n",
        "    df['signup_time'] = pd.to_datetime(df['signup_time'])\n",
        "    df['purchase_time'] = pd.to_datetime(df['purchase_time'])\n",
        "    df = df.drop(['signup_time', 'purchase_time', 'user_id', 'device_id'], axis=1)\n",
        "    return df\n",
        "\n",
        "df_fraud = preprocess_fraud_data(df_fraud)"
      ]
    },
    {
      "cell_type": "code",
      "execution_count": 5,
      "metadata": {
        "id": "-jdwwTDqu85G"
      },
      "outputs": [],
      "source": [
        "# Impute missing values\n",
        "imputer = SimpleImputer(strategy='mean')\n",
        "df_fraud = pd.DataFrame(imputer.fit_transform(df_fraud), columns=df_fraud.columns)\n",
        "df_credit = pd.DataFrame(imputer.fit_transform(df_credit), columns=df_credit.columns)"
      ]
    },
    {
      "cell_type": "code",
      "execution_count": 6,
      "metadata": {
        "id": "GW1D_4g9y9ii"
      },
      "outputs": [],
      "source": [
        "# Ensure target variables are binary\n",
        "df_fraud['class'] = df_fraud['class'].astype(int)\n",
        "df_credit['Class'] = df_credit['Class'].astype(int)"
      ]
    },
    {
      "cell_type": "code",
      "execution_count": 7,
      "metadata": {
        "id": "AAvOBuuSvLek"
      },
      "outputs": [],
      "source": [
        "# Separate features and target for Fraud_Data\n",
        "X_fraud = df_fraud.drop('class', axis=1)\n",
        "y_fraud = df_fraud['class']\n",
        "\n",
        "# Separate features and target for creditcard data\n",
        "X_credit = df_credit.drop('Class', axis=1)\n",
        "y_credit = df_credit['Class']\n",
        "\n",
        "# Train-test split for Fraud_Data\n",
        "X_fraud_train, X_fraud_test, y_fraud_train, y_fraud_test = train_test_split(X_fraud, y_fraud, test_size=0.3, random_state=42)\n",
        "\n",
        "# Train-test split for creditcard data\n",
        "X_credit_train, X_credit_test, y_credit_train, y_credit_test = train_test_split(X_credit, y_credit, test_size=0.3, random_state=42)"
      ]
    },
    {
      "cell_type": "code",
      "execution_count": 8,
      "metadata": {
        "id": "OMOYfzpkxYW5"
      },
      "outputs": [],
      "source": [
        "# Model training and evaluation function\n",
        "def train_and_evaluate_model(model, X_train, y_train, X_test, y_test, model_name):\n",
        "    model.fit(X_train, y_train)\n",
        "    y_pred = model.predict(X_test)\n",
        "    print(f\"Performance of {model_name}:\")\n",
        "    print(classification_report(y_test, y_pred))\n",
        "\n",
        "    # Log model and metrics with MLflow\n",
        "    with mlflow.start_run():\n",
        "        mlflow.sklearn.log_model(model, model_name)\n",
        "        mlflow.log_param(\"model_type\", model_name)\n",
        "        mlflow.log_metric(\"accuracy\", accuracy_score(y_test, y_pred))\n",
        "        mlflow.log_metric(\"precision\", precision_score(y_test, y_pred))\n",
        "        mlflow.log_metric(\"recall\", recall_score(y_test, y_pred))\n",
        "        mlflow.log_metric(\"f1_score\", f1_score(y_test, y_pred))"
      ]
    },
    {
      "cell_type": "code",
      "execution_count": 10,
      "metadata": {
        "colab": {
          "base_uri": "https://localhost:8080/"
        },
        "id": "9l3kYTMxvVUQ",
        "outputId": "8329ea0d-9c69-4905-ff2d-1d35a671f10a"
      },
      "outputs": [
        {
          "name": "stdout",
          "output_type": "stream",
          "text": [
            "Performance of Logistic Regression:\n"
          ]
        },
        {
          "name": "stderr",
          "output_type": "stream",
          "text": [
            "c:\\Users\\ende\\anaconda3_new\\envs\\envE\\Lib\\site-packages\\sklearn\\metrics\\_classification.py:1517: UndefinedMetricWarning: Precision is ill-defined and being set to 0.0 in labels with no predicted samples. Use `zero_division` parameter to control this behavior.\n",
            "  _warn_prf(average, modifier, f\"{metric.capitalize()} is\", len(result))\n",
            "c:\\Users\\ende\\anaconda3_new\\envs\\envE\\Lib\\site-packages\\sklearn\\metrics\\_classification.py:1517: UndefinedMetricWarning: Precision is ill-defined and being set to 0.0 in labels with no predicted samples. Use `zero_division` parameter to control this behavior.\n",
            "  _warn_prf(average, modifier, f\"{metric.capitalize()} is\", len(result))\n",
            "c:\\Users\\ende\\anaconda3_new\\envs\\envE\\Lib\\site-packages\\sklearn\\metrics\\_classification.py:1517: UndefinedMetricWarning: Precision is ill-defined and being set to 0.0 in labels with no predicted samples. Use `zero_division` parameter to control this behavior.\n",
            "  _warn_prf(average, modifier, f\"{metric.capitalize()} is\", len(result))\n"
          ]
        },
        {
          "name": "stdout",
          "output_type": "stream",
          "text": [
            "              precision    recall  f1-score   support\n",
            "\n",
            "           0       0.90      1.00      0.95     35044\n",
            "           1       0.00      0.00      0.00      3700\n",
            "\n",
            "    accuracy                           0.90     38744\n",
            "   macro avg       0.45      0.50      0.47     38744\n",
            "weighted avg       0.82      0.90      0.86     38744\n",
            "\n"
          ]
        },
        {
          "name": "stderr",
          "output_type": "stream",
          "text": [
            "c:\\Users\\ende\\anaconda3_new\\envs\\envE\\Lib\\site-packages\\sklearn\\metrics\\_classification.py:1517: UndefinedMetricWarning: Precision is ill-defined and being set to 0.0 due to no predicted samples. Use `zero_division` parameter to control this behavior.\n",
            "  _warn_prf(average, modifier, f\"{metric.capitalize()} is\", len(result))\n"
          ]
        }
      ],
      "source": [
        "# Logistic Regression\n",
        "log_reg_fraud = LogisticRegression()\n",
        "train_and_evaluate_model(log_reg_fraud, X_fraud_train, y_fraud_train, X_fraud_test, y_fraud_test, \"Logistic Regression\")\n",
        "\n"
      ]
    },
    {
      "cell_type": "code",
      "execution_count": 12,
      "metadata": {
        "colab": {
          "base_uri": "https://localhost:8080/"
        },
        "id": "ZzcvnLiV1aIu",
        "outputId": "cfff294f-38f9-471b-d9d5-14f3361ae06f"
      },
      "outputs": [
        {
          "name": "stderr",
          "output_type": "stream",
          "text": [
            "c:\\Users\\ende\\anaconda3_new\\envs\\envE\\Lib\\site-packages\\sklearn\\linear_model\\_logistic.py:469: ConvergenceWarning: lbfgs failed to converge (status=1):\n",
            "STOP: TOTAL NO. of ITERATIONS REACHED LIMIT.\n",
            "\n",
            "Increase the number of iterations (max_iter) or scale the data as shown in:\n",
            "    https://scikit-learn.org/stable/modules/preprocessing.html\n",
            "Please also refer to the documentation for alternative solver options:\n",
            "    https://scikit-learn.org/stable/modules/linear_model.html#logistic-regression\n",
            "  n_iter_i = _check_optimize_result(\n"
          ]
        },
        {
          "name": "stdout",
          "output_type": "stream",
          "text": [
            "Performance of Logistic Regression:\n",
            "              precision    recall  f1-score   support\n",
            "\n",
            "           0       1.00      1.00      1.00     84984\n",
            "           1       0.69      0.57      0.63       134\n",
            "\n",
            "    accuracy                           1.00     85118\n",
            "   macro avg       0.84      0.79      0.81     85118\n",
            "weighted avg       1.00      1.00      1.00     85118\n",
            "\n"
          ]
        },
        {
          "name": "stderr",
          "output_type": "stream",
          "text": [
            "2024/06/26 14:55:36 WARNING mlflow.utils.environment: Encountered an unexpected error while inferring pip requirements (model URI: C:\\Users\\ende\\AppData\\Local\\Temp\\tmp2vfwqfwt\\model\\model.pkl, flavor: sklearn). Fall back to return ['scikit-learn==1.5.0', 'cloudpickle==3.0.0']. Set logging level to DEBUG to see the full traceback. \n"
          ]
        }
      ],
      "source": [
        "# Logistic Regression\n",
        "log_reg_credit = LogisticRegression()\n",
        "train_and_evaluate_model(log_reg_credit, X_credit_train, y_credit_train, X_credit_test, y_credit_test, \"Logistic Regression\")\n",
        "\n"
      ]
    },
    {
      "cell_type": "code",
      "execution_count": 9,
      "metadata": {
        "colab": {
          "base_uri": "https://localhost:8080/"
        },
        "id": "EVCFBl_nvZU_",
        "outputId": "b5dfafdc-25a5-489c-bbc1-5406c84d3c62"
      },
      "outputs": [
        {
          "name": "stdout",
          "output_type": "stream",
          "text": [
            "Performance of Decision Tree:\n",
            "              precision    recall  f1-score   support\n",
            "\n",
            "           0       0.95      0.93      0.94     35044\n",
            "           1       0.47      0.57      0.51      3700\n",
            "\n",
            "    accuracy                           0.90     38744\n",
            "   macro avg       0.71      0.75      0.73     38744\n",
            "weighted avg       0.91      0.90      0.90     38744\n",
            "\n"
          ]
        }
      ],
      "source": [
        "# Decision Tree\n",
        "dt_fraud = DecisionTreeClassifier()\n",
        "train_and_evaluate_model(dt_fraud, X_fraud_train, y_fraud_train, X_fraud_test, y_fraud_test, \"Decision Tree\")\n",
        "\n"
      ]
    },
    {
      "cell_type": "code",
      "execution_count": 16,
      "metadata": {
        "colab": {
          "base_uri": "https://localhost:8080/"
        },
        "id": "zJrpiRHn1q46",
        "outputId": "37138d01-4212-4258-ec61-a4b40204148a"
      },
      "outputs": [
        {
          "name": "stdout",
          "output_type": "stream",
          "text": [
            "Performance of Decision Tree:\n",
            "              precision    recall  f1-score   support\n",
            "\n",
            "           0       1.00      1.00      1.00     84984\n",
            "           1       0.71      0.78      0.75       134\n",
            "\n",
            "    accuracy                           1.00     85118\n",
            "   macro avg       0.86      0.89      0.87     85118\n",
            "weighted avg       1.00      1.00      1.00     85118\n",
            "\n"
          ]
        }
      ],
      "source": [
        "# Decision Tree\n",
        "dt_credit = DecisionTreeClassifier()\n",
        "train_and_evaluate_model(dt_credit, X_credit_train, y_credit_train, X_credit_test, y_credit_test, \"Decision Tree\")\n",
        "\n"
      ]
    },
    {
      "cell_type": "code",
      "execution_count": 17,
      "metadata": {
        "colab": {
          "base_uri": "https://localhost:8080/"
        },
        "id": "-3Eoh-yDvcvM",
        "outputId": "eaa203ba-9c88-43fd-b753-2627eea5fb1d"
      },
      "outputs": [
        {
          "name": "stdout",
          "output_type": "stream",
          "text": [
            "Performance of Random Forest:\n",
            "              precision    recall  f1-score   support\n",
            "\n",
            "           0       1.00      1.00      1.00     84984\n",
            "           1       0.95      0.73      0.83       134\n",
            "\n",
            "    accuracy                           1.00     85118\n",
            "   macro avg       0.98      0.87      0.91     85118\n",
            "weighted avg       1.00      1.00      1.00     85118\n",
            "\n"
          ]
        }
      ],
      "source": [
        "# Random Forest\n",
        "rf_credit = RandomForestClassifier()\n",
        "train_and_evaluate_model(rf_credit, X_credit_train, y_credit_train, X_credit_test, y_credit_test, \"Random Forest\")\n",
        "\n"
      ]
    },
    {
      "cell_type": "code",
      "execution_count": 10,
      "metadata": {
        "colab": {
          "base_uri": "https://localhost:8080/"
        },
        "id": "tuhNUCxy1yiW",
        "outputId": "5182705c-4ab6-4055-8c20-b987a45fdc17"
      },
      "outputs": [
        {
          "name": "stdout",
          "output_type": "stream",
          "text": [
            "Performance of Random Forest:\n",
            "              precision    recall  f1-score   support\n",
            "\n",
            "           0       0.95      1.00      0.98     35044\n",
            "           1       0.99      0.53      0.69      3700\n",
            "\n",
            "    accuracy                           0.95     38744\n",
            "   macro avg       0.97      0.77      0.83     38744\n",
            "weighted avg       0.96      0.95      0.95     38744\n",
            "\n"
          ]
        }
      ],
      "source": [
        "# Random Forest\n",
        "rf_fraud = RandomForestClassifier()\n",
        "train_and_evaluate_model(rf_fraud, X_fraud_train, y_fraud_train, X_fraud_test, y_fraud_test, \"Random Forest\")\n",
        "\n"
      ]
    },
    {
      "cell_type": "code",
      "execution_count": 1,
      "metadata": {},
      "outputs": [
        {
          "ename": "NameError",
          "evalue": "name 'X_fraud_train' is not defined",
          "output_type": "error",
          "traceback": [
            "\u001b[1;31m---------------------------------------------------------------------------\u001b[0m",
            "\u001b[1;31mNameError\u001b[0m                                 Traceback (most recent call last)",
            "Cell \u001b[1;32mIn[1], line 1\u001b[0m\n\u001b[1;32m----> 1\u001b[0m \u001b[43mX_fraud_train\u001b[49m\n",
            "\u001b[1;31mNameError\u001b[0m: name 'X_fraud_train' is not defined"
          ]
        }
      ],
      "source": [
        "X_fraud_train"
      ]
    },
    {
      "cell_type": "code",
      "execution_count": 19,
      "metadata": {
        "colab": {
          "base_uri": "https://localhost:8080/"
        },
        "id": "nFJYQtZ1vhwi",
        "outputId": "12935646-0a85-438e-95dd-e250d7af33eb"
      },
      "outputs": [
        {
          "name": "stdout",
          "output_type": "stream",
          "text": [
            "Performance of Gradient Boosting:\n",
            "              precision    recall  f1-score   support\n",
            "\n",
            "           0       0.91      1.00      0.95     35044\n",
            "           1       0.88      0.01      0.02      3700\n",
            "\n",
            "    accuracy                           0.91     38744\n",
            "   macro avg       0.89      0.50      0.49     38744\n",
            "weighted avg       0.90      0.91      0.86     38744\n",
            "\n"
          ]
        }
      ],
      "source": [
        "# Gradient Boosting\n",
        "gb_fraud = GradientBoostingClassifier()\n",
        "train_and_evaluate_model(gb_fraud, X_fraud_train, y_fraud_train, X_fraud_test, y_fraud_test, \"Gradient Boosting\")\n",
        "\n"
      ]
    },
    {
      "cell_type": "code",
      "execution_count": 20,
      "metadata": {
        "colab": {
          "base_uri": "https://localhost:8080/"
        },
        "id": "sDQWzO5v16LE",
        "outputId": "5d5f8e9c-5d3e-4016-a3b9-afd0f8c4a766"
      },
      "outputs": [
        {
          "name": "stdout",
          "output_type": "stream",
          "text": [
            "Performance of Gradient Boosting:\n",
            "              precision    recall  f1-score   support\n",
            "\n",
            "           0       1.00      1.00      1.00     84984\n",
            "           1       0.76      0.49      0.59       134\n",
            "\n",
            "    accuracy                           1.00     85118\n",
            "   macro avg       0.88      0.74      0.80     85118\n",
            "weighted avg       1.00      1.00      1.00     85118\n",
            "\n"
          ]
        }
      ],
      "source": [
        "# Gradient Boosting\n",
        "gb_credit = GradientBoostingClassifier()\n",
        "train_and_evaluate_model(gb_credit,  X_credit_train, y_credit_train, X_credit_test, y_credit_test, \"Gradient Boosting\")\n",
        "\n"
      ]
    },
    {
      "cell_type": "code",
      "execution_count": 21,
      "metadata": {
        "colab": {
          "base_uri": "https://localhost:8080/"
        },
        "id": "4TowuF0gvkvp",
        "outputId": "35ce6632-fda3-45aa-fe61-85747a21b88e"
      },
      "outputs": [
        {
          "name": "stdout",
          "output_type": "stream",
          "text": [
            "Performance of MLP:\n",
            "              precision    recall  f1-score   support\n",
            "\n",
            "           0       1.00      1.00      1.00     84984\n",
            "           1       0.52      0.75      0.62       134\n",
            "\n",
            "    accuracy                           1.00     85118\n",
            "   macro avg       0.76      0.88      0.81     85118\n",
            "weighted avg       1.00      1.00      1.00     85118\n",
            "\n"
          ]
        }
      ],
      "source": [
        "# Multi-Layer Perceptron (MLP)\n",
        "mlp_credit = MLPClassifier()\n",
        "train_and_evaluate_model(mlp_credit, X_credit_train, y_credit_train, X_credit_test, y_credit_test, \"MLP\")\n",
        "\n"
      ]
    },
    {
      "cell_type": "code",
      "execution_count": 22,
      "metadata": {
        "colab": {
          "base_uri": "https://localhost:8080/"
        },
        "id": "t-U6FcRn2CCb",
        "outputId": "cf9d0d04-aae7-437f-c990-f31aa123c9ef"
      },
      "outputs": [
        {
          "name": "stdout",
          "output_type": "stream",
          "text": [
            "Performance of MLP:\n",
            "              precision    recall  f1-score   support\n",
            "\n",
            "           0       0.00      0.00      0.00     35044\n",
            "           1       0.10      1.00      0.17      3700\n",
            "\n",
            "    accuracy                           0.10     38744\n",
            "   macro avg       0.05      0.50      0.09     38744\n",
            "weighted avg       0.01      0.10      0.02     38744\n",
            "\n"
          ]
        },
        {
          "name": "stderr",
          "output_type": "stream",
          "text": [
            "c:\\Users\\ende\\anaconda3_new\\envs\\envE\\Lib\\site-packages\\sklearn\\metrics\\_classification.py:1517: UndefinedMetricWarning: Precision is ill-defined and being set to 0.0 in labels with no predicted samples. Use `zero_division` parameter to control this behavior.\n",
            "  _warn_prf(average, modifier, f\"{metric.capitalize()} is\", len(result))\n",
            "c:\\Users\\ende\\anaconda3_new\\envs\\envE\\Lib\\site-packages\\sklearn\\metrics\\_classification.py:1517: UndefinedMetricWarning: Precision is ill-defined and being set to 0.0 in labels with no predicted samples. Use `zero_division` parameter to control this behavior.\n",
            "  _warn_prf(average, modifier, f\"{metric.capitalize()} is\", len(result))\n",
            "c:\\Users\\ende\\anaconda3_new\\envs\\envE\\Lib\\site-packages\\sklearn\\metrics\\_classification.py:1517: UndefinedMetricWarning: Precision is ill-defined and being set to 0.0 in labels with no predicted samples. Use `zero_division` parameter to control this behavior.\n",
            "  _warn_prf(average, modifier, f\"{metric.capitalize()} is\", len(result))\n"
          ]
        }
      ],
      "source": [
        "# Multi-Layer Perceptron (MLP)\n",
        "mlp_fraud = MLPClassifier()\n",
        "train_and_evaluate_model(mlp_fraud, X_fraud_train, y_fraud_train, X_fraud_test, y_fraud_test, \"MLP\")\n",
        "\n"
      ]
    },
    {
      "cell_type": "code",
      "execution_count": 23,
      "metadata": {
        "id": "9VbrBvzuvoRu"
      },
      "outputs": [],
      "source": [
        "# Neural Network model architectures and training\n",
        "def train_nn_model(model, X_train, y_train, X_test, y_test, model_name):\n",
        "    model.compile(optimizer='adam', loss='binary_crossentropy', metrics=['accuracy'])\n",
        "    model.fit(X_train, y_train, epochs=10, batch_size=32, validation_data=(X_test, y_test))\n",
        "\n",
        "    # Log model and metrics with MLflow\n",
        "    with mlflow.start_run():\n",
        "        mlflow.keras.log_model(model, model_name)\n",
        "        loss, accuracy = model.evaluate(X_test, y_test)\n",
        "        mlflow.log_metric(\"accuracy\", accuracy)\n",
        "\n"
      ]
    },
    {
      "cell_type": "code",
      "execution_count": 24,
      "metadata": {
        "id": "pmBWTPOrvsRt"
      },
      "outputs": [],
      "source": [
        "# Reshape data for CNN and RNN models\n",
        "X_fraud_train_cnn_rnn = X_fraud_train.values.reshape((X_fraud_train.shape[0], X_fraud_train.shape[1], 1))\n",
        "X_fraud_test_cnn_rnn = X_fraud_test.values.reshape((X_fraud_test.shape[0], X_fraud_test.shape[1], 1))\n",
        "X_credit_train_cnn_rnn = X_credit_train.values.reshape((X_credit_train.shape[0], X_credit_train.shape[1], 1))\n",
        "X_credit_test_cnn_rnn = X_credit_test.values.reshape((X_credit_test.shape[0], X_credit_test.shape[1], 1))\n",
        "\n"
      ]
    },
    {
      "cell_type": "code",
      "execution_count": 25,
      "metadata": {
        "colab": {
          "base_uri": "https://localhost:8080/"
        },
        "id": "kPLSj8Pdvvcs",
        "outputId": "8068d4b3-fc51-4ba6-ba68-dc5318c2c5e0"
      },
      "outputs": [
        {
          "name": "stderr",
          "output_type": "stream",
          "text": [
            "c:\\Users\\ende\\anaconda3_new\\envs\\envE\\Lib\\site-packages\\keras\\src\\layers\\convolutional\\base_conv.py:107: UserWarning: Do not pass an `input_shape`/`input_dim` argument to a layer. When using Sequential models, prefer using an `Input(shape)` object as the first layer in the model instead.\n",
            "  super().__init__(activity_regularizer=activity_regularizer, **kwargs)\n"
          ]
        },
        {
          "name": "stdout",
          "output_type": "stream",
          "text": [
            "Epoch 1/10\n",
            "\u001b[1m2826/2826\u001b[0m \u001b[32m━━━━━━━━━━━━━━━━━━━━\u001b[0m\u001b[37m\u001b[0m \u001b[1m179s\u001b[0m 54ms/step - accuracy: 0.8266 - loss: 1572596.5000 - val_accuracy: 0.9045 - val_loss: 22294.5137\n",
            "Epoch 2/10\n",
            "\u001b[1m2826/2826\u001b[0m \u001b[32m━━━━━━━━━━━━━━━━━━━━\u001b[0m\u001b[37m\u001b[0m \u001b[1m124s\u001b[0m 44ms/step - accuracy: 0.8269 - loss: 47768.0078 - val_accuracy: 0.9045 - val_loss: 0.4361\n",
            "Epoch 3/10\n",
            "\u001b[1m2826/2826\u001b[0m \u001b[32m━━━━━━━━━━━━━━━━━━━━\u001b[0m\u001b[37m\u001b[0m \u001b[1m131s\u001b[0m 46ms/step - accuracy: 0.9058 - loss: 0.3777 - val_accuracy: 0.9045 - val_loss: 0.3173\n",
            "Epoch 4/10\n",
            "\u001b[1m2826/2826\u001b[0m \u001b[32m━━━━━━━━━━━━━━━━━━━━\u001b[0m\u001b[37m\u001b[0m \u001b[1m129s\u001b[0m 45ms/step - accuracy: 0.9051 - loss: 0.3146 - val_accuracy: 0.9045 - val_loss: 0.3151\n",
            "Epoch 5/10\n",
            "\u001b[1m2826/2826\u001b[0m \u001b[32m━━━━━━━━━━━━━━━━━━━━\u001b[0m\u001b[37m\u001b[0m \u001b[1m122s\u001b[0m 38ms/step - accuracy: 0.9073 - loss: 0.3088 - val_accuracy: 0.9045 - val_loss: 0.3151\n",
            "Epoch 6/10\n",
            "\u001b[1m2826/2826\u001b[0m \u001b[32m━━━━━━━━━━━━━━━━━━━━\u001b[0m\u001b[37m\u001b[0m \u001b[1m130s\u001b[0m 46ms/step - accuracy: 0.9040 - loss: 0.3162 - val_accuracy: 0.9045 - val_loss: 0.3151\n",
            "Epoch 7/10\n",
            "\u001b[1m2826/2826\u001b[0m \u001b[32m━━━━━━━━━━━━━━━━━━━━\u001b[0m\u001b[37m\u001b[0m \u001b[1m122s\u001b[0m 43ms/step - accuracy: 0.9053 - loss: 0.3133 - val_accuracy: 0.9045 - val_loss: 0.3151\n",
            "Epoch 8/10\n",
            "\u001b[1m2826/2826\u001b[0m \u001b[32m━━━━━━━━━━━━━━━━━━━━\u001b[0m\u001b[37m\u001b[0m \u001b[1m128s\u001b[0m 45ms/step - accuracy: 0.9063 - loss: 0.3110 - val_accuracy: 0.9045 - val_loss: 0.3151\n",
            "Epoch 9/10\n",
            "\u001b[1m2826/2826\u001b[0m \u001b[32m━━━━━━━━━━━━━━━━━━━━\u001b[0m\u001b[37m\u001b[0m \u001b[1m137s\u001b[0m 48ms/step - accuracy: 0.9034 - loss: 0.3176 - val_accuracy: 0.9045 - val_loss: 0.3151\n",
            "Epoch 10/10\n",
            "\u001b[1m2826/2826\u001b[0m \u001b[32m━━━━━━━━━━━━━━━━━━━━\u001b[0m\u001b[37m\u001b[0m \u001b[1m164s\u001b[0m 58ms/step - accuracy: 0.9056 - loss: 0.3125 - val_accuracy: 0.9045 - val_loss: 0.3151\n"
          ]
        },
        {
          "name": "stderr",
          "output_type": "stream",
          "text": [
            "2024/06/26 16:10:55 WARNING mlflow.keras.save: You are saving a Keras model without specifying model signature.\n",
            "2024/06/26 16:13:04 WARNING mlflow.utils.environment: Encountered an unexpected error while inferring pip requirements (model URI: C:\\Users\\ende\\AppData\\Local\\Temp\\tmp5sx6jh0k\\model, flavor: keras). Fall back to return ['keras==3.4.0']. Set logging level to DEBUG to see the full traceback. \n"
          ]
        },
        {
          "name": "stdout",
          "output_type": "stream",
          "text": [
            "\u001b[1m1211/1211\u001b[0m \u001b[32m━━━━━━━━━━━━━━━━━━━━\u001b[0m\u001b[37m\u001b[0m \u001b[1m12s\u001b[0m 10ms/step - accuracy: 0.9063 - loss: 0.3110\n"
          ]
        }
      ],
      "source": [
        "# CNN\n",
        "cnn_model_fraud = Sequential([\n",
        "    Conv1D(filters=64, kernel_size=2, activation='relu', input_shape=(X_fraud_train_cnn_rnn.shape[1], 1)),\n",
        "    MaxPooling1D(pool_size=2),\n",
        "    Flatten(),\n",
        "    Dense(100, activation='relu'),\n",
        "    Dense(1, activation='sigmoid')\n",
        "])\n",
        "train_nn_model(cnn_model_fraud, X_fraud_train_cnn_rnn, y_fraud_train, X_fraud_test_cnn_rnn, y_fraud_test, \"CNN\")\n",
        "\n"
      ]
    },
    {
      "cell_type": "code",
      "execution_count": 26,
      "metadata": {
        "colab": {
          "base_uri": "https://localhost:8080/"
        },
        "id": "4CFjI3GM2OGR",
        "outputId": "4790ecdf-68ea-4252-b4f1-90cef4b8762c"
      },
      "outputs": [
        {
          "name": "stdout",
          "output_type": "stream",
          "text": [
            "Epoch 1/10\n",
            "\u001b[1m6207/6207\u001b[0m \u001b[32m━━━━━━━━━━━━━━━━━━━━\u001b[0m\u001b[37m\u001b[0m \u001b[1m76s\u001b[0m 11ms/step - accuracy: 0.9952 - loss: 5.6698 - val_accuracy: 0.9982 - val_loss: 0.0791\n",
            "Epoch 2/10\n",
            "\u001b[1m6207/6207\u001b[0m \u001b[32m━━━━━━━━━━━━━━━━━━━━\u001b[0m\u001b[37m\u001b[0m \u001b[1m76s\u001b[0m 10ms/step - accuracy: 0.9982 - loss: 0.2011 - val_accuracy: 0.9984 - val_loss: 0.0601\n",
            "Epoch 3/10\n",
            "\u001b[1m6207/6207\u001b[0m \u001b[32m━━━━━━━━━━━━━━━━━━━━\u001b[0m\u001b[37m\u001b[0m \u001b[1m67s\u001b[0m 11ms/step - accuracy: 0.9991 - loss: 0.0466 - val_accuracy: 0.9994 - val_loss: 0.0052\n",
            "Epoch 4/10\n",
            "\u001b[1m6207/6207\u001b[0m \u001b[32m━━━━━━━━━━━━━━━━━━━━\u001b[0m\u001b[37m\u001b[0m \u001b[1m67s\u001b[0m 11ms/step - accuracy: 0.9990 - loss: 0.0138 - val_accuracy: 0.9994 - val_loss: 0.0045\n",
            "Epoch 5/10\n",
            "\u001b[1m6207/6207\u001b[0m \u001b[32m━━━━━━━━━━━━━━━━━━━━\u001b[0m\u001b[37m\u001b[0m \u001b[1m68s\u001b[0m 11ms/step - accuracy: 0.9992 - loss: 0.0069 - val_accuracy: 0.9993 - val_loss: 0.0041\n",
            "Epoch 6/10\n",
            "\u001b[1m6207/6207\u001b[0m \u001b[32m━━━━━━━━━━━━━━━━━━━━\u001b[0m\u001b[37m\u001b[0m \u001b[1m72s\u001b[0m 12ms/step - accuracy: 0.9981 - loss: 0.0972 - val_accuracy: 0.9993 - val_loss: 0.0112\n",
            "Epoch 7/10\n",
            "\u001b[1m6207/6207\u001b[0m \u001b[32m━━━━━━━━━━━━━━━━━━━━\u001b[0m\u001b[37m\u001b[0m \u001b[1m68s\u001b[0m 11ms/step - accuracy: 0.9993 - loss: 0.0083 - val_accuracy: 0.9995 - val_loss: 0.0043\n",
            "Epoch 8/10\n",
            "\u001b[1m6207/6207\u001b[0m \u001b[32m━━━━━━━━━━━━━━━━━━━━\u001b[0m\u001b[37m\u001b[0m \u001b[1m70s\u001b[0m 11ms/step - accuracy: 0.9990 - loss: 0.0156 - val_accuracy: 0.9986 - val_loss: 0.0097\n",
            "Epoch 9/10\n",
            "\u001b[1m6207/6207\u001b[0m \u001b[32m━━━━━━━━━━━━━━━━━━━━\u001b[0m\u001b[37m\u001b[0m \u001b[1m99s\u001b[0m 16ms/step - accuracy: 0.9992 - loss: 0.0052 - val_accuracy: 0.9995 - val_loss: 0.0033\n",
            "Epoch 10/10\n",
            "\u001b[1m6207/6207\u001b[0m \u001b[32m━━━━━━━━━━━━━━━━━━━━\u001b[0m\u001b[37m\u001b[0m \u001b[1m99s\u001b[0m 16ms/step - accuracy: 0.9992 - loss: 0.0115 - val_accuracy: 0.9994 - val_loss: 0.0038\n"
          ]
        },
        {
          "name": "stderr",
          "output_type": "stream",
          "text": [
            "2024/06/26 16:26:02 WARNING mlflow.keras.save: You are saving a Keras model without specifying model signature.\n"
          ]
        },
        {
          "name": "stdout",
          "output_type": "stream",
          "text": [
            "\u001b[1m2660/2660\u001b[0m \u001b[32m━━━━━━━━━━━━━━━━━━━━\u001b[0m\u001b[37m\u001b[0m \u001b[1m15s\u001b[0m 6ms/step - accuracy: 0.9995 - loss: 0.0035\n"
          ]
        }
      ],
      "source": [
        "# CNN Model\n",
        "cnn_model_credit = Sequential([\n",
        "    Conv1D(filters=64, kernel_size=2, activation='relu', input_shape=(X_credit_train_cnn_rnn.shape[1], 1)),\n",
        "    MaxPooling1D(pool_size=2),\n",
        "    Flatten(),\n",
        "    Dense(100, activation='relu'),\n",
        "    Dense(1, activation='sigmoid')\n",
        "])\n",
        "\n",
        "# Train and evaluate the CNN model\n",
        "train_nn_model(cnn_model_credit, X_credit_train_cnn_rnn, y_credit_train, X_credit_test_cnn_rnn, y_credit_test, \"CNN\")\n"
      ]
    },
    {
      "cell_type": "code",
      "execution_count": 27,
      "metadata": {
        "colab": {
          "base_uri": "https://localhost:8080/"
        },
        "id": "4zs433HIv0RY",
        "outputId": "7b18629e-18b5-4a99-9337-5a603c20d186"
      },
      "outputs": [
        {
          "name": "stderr",
          "output_type": "stream",
          "text": [
            "c:\\Users\\ende\\anaconda3_new\\envs\\envE\\Lib\\site-packages\\keras\\src\\layers\\rnn\\rnn.py:204: UserWarning: Do not pass an `input_shape`/`input_dim` argument to a layer. When using Sequential models, prefer using an `Input(shape)` object as the first layer in the model instead.\n",
            "  super().__init__(**kwargs)\n"
          ]
        },
        {
          "name": "stdout",
          "output_type": "stream",
          "text": [
            "Epoch 1/10\n",
            "\u001b[1m2826/2826\u001b[0m \u001b[32m━━━━━━━━━━━━━━━━━━━━\u001b[0m\u001b[37m\u001b[0m \u001b[1m389s\u001b[0m 134ms/step - accuracy: 0.9041 - loss: 0.3427 - val_accuracy: 0.9045 - val_loss: 0.3152\n",
            "Epoch 2/10\n",
            "\u001b[1m2826/2826\u001b[0m \u001b[32m━━━━━━━━━━━━━━━━━━━━\u001b[0m\u001b[37m\u001b[0m \u001b[1m365s\u001b[0m 129ms/step - accuracy: 0.9066 - loss: 0.3114 - val_accuracy: 0.9045 - val_loss: 0.3162\n",
            "Epoch 3/10\n",
            "\u001b[1m2826/2826\u001b[0m \u001b[32m━━━━━━━━━━━━━━━━━━━━\u001b[0m\u001b[37m\u001b[0m \u001b[1m369s\u001b[0m 130ms/step - accuracy: 0.9051 - loss: 0.3149 - val_accuracy: 0.9045 - val_loss: 0.3170\n",
            "Epoch 4/10\n",
            "\u001b[1m2826/2826\u001b[0m \u001b[32m━━━━━━━━━━━━━━━━━━━━\u001b[0m\u001b[37m\u001b[0m \u001b[1m364s\u001b[0m 124ms/step - accuracy: 0.9039 - loss: 0.3173 - val_accuracy: 0.9045 - val_loss: 0.3158\n",
            "Epoch 5/10\n",
            "\u001b[1m2826/2826\u001b[0m \u001b[32m━━━━━━━━━━━━━━━━━━━━\u001b[0m\u001b[37m\u001b[0m \u001b[1m369s\u001b[0m 131ms/step - accuracy: 0.9048 - loss: 0.3152 - val_accuracy: 0.9045 - val_loss: 0.3164\n",
            "Epoch 6/10\n",
            "\u001b[1m2826/2826\u001b[0m \u001b[32m━━━━━━━━━━━━━━━━━━━━\u001b[0m\u001b[37m\u001b[0m \u001b[1m386s\u001b[0m 132ms/step - accuracy: 0.9052 - loss: 0.3141 - val_accuracy: 0.9045 - val_loss: 0.3154\n",
            "Epoch 7/10\n",
            "\u001b[1m2826/2826\u001b[0m \u001b[32m━━━━━━━━━━━━━━━━━━━━\u001b[0m\u001b[37m\u001b[0m \u001b[1m373s\u001b[0m 128ms/step - accuracy: 0.9058 - loss: 0.3126 - val_accuracy: 0.9045 - val_loss: 0.3151\n",
            "Epoch 8/10\n",
            "\u001b[1m2826/2826\u001b[0m \u001b[32m━━━━━━━━━━━━━━━━━━━━\u001b[0m\u001b[37m\u001b[0m \u001b[1m350s\u001b[0m 124ms/step - accuracy: 0.9041 - loss: 0.3165 - val_accuracy: 0.9045 - val_loss: 0.3158\n",
            "Epoch 9/10\n",
            "\u001b[1m2826/2826\u001b[0m \u001b[32m━━━━━━━━━━━━━━━━━━━━\u001b[0m\u001b[37m\u001b[0m \u001b[1m380s\u001b[0m 123ms/step - accuracy: 0.9070 - loss: 0.3096 - val_accuracy: 0.9045 - val_loss: 0.3154\n",
            "Epoch 10/10\n",
            "\u001b[1m2826/2826\u001b[0m \u001b[32m━━━━━━━━━━━━━━━━━━━━\u001b[0m\u001b[37m\u001b[0m \u001b[1m486s\u001b[0m 172ms/step - accuracy: 0.9053 - loss: 0.3137 - val_accuracy: 0.9045 - val_loss: 0.3153\n"
          ]
        },
        {
          "name": "stderr",
          "output_type": "stream",
          "text": [
            "2024/06/26 17:31:21 WARNING mlflow.keras.save: You are saving a Keras model without specifying model signature.\n",
            "2024/06/26 17:33:28 WARNING mlflow.utils.environment: Encountered an unexpected error while inferring pip requirements (model URI: C:\\Users\\ende\\AppData\\Local\\Temp\\tmpne9m_ni0\\model, flavor: keras). Fall back to return ['keras==3.4.0']. Set logging level to DEBUG to see the full traceback. \n"
          ]
        },
        {
          "name": "stdout",
          "output_type": "stream",
          "text": [
            "\u001b[1m1211/1211\u001b[0m \u001b[32m━━━━━━━━━━━━━━━━━━━━\u001b[0m\u001b[37m\u001b[0m \u001b[1m51s\u001b[0m 42ms/step - accuracy: 0.9063 - loss: 0.3114\n"
          ]
        }
      ],
      "source": [
        "# RNN\n",
        "rnn_model_fraud = Sequential([\n",
        "    SimpleRNN(100, activation='relu', input_shape=(X_fraud_train_cnn_rnn.shape[1], 1)),\n",
        "    Dense(1, activation='sigmoid')\n",
        "])\n",
        "train_nn_model(rnn_model_fraud, X_fraud_train_cnn_rnn, y_fraud_train, X_fraud_test_cnn_rnn, y_fraud_test, \"RNN\")\n",
        "\n"
      ]
    },
    {
      "cell_type": "code",
      "execution_count": 28,
      "metadata": {
        "id": "iIdlf9nf2aSz"
      },
      "outputs": [
        {
          "name": "stdout",
          "output_type": "stream",
          "text": [
            "Epoch 1/10\n",
            "\u001b[1m2826/2826\u001b[0m \u001b[32m━━━━━━━━━━━━━━━━━━━━\u001b[0m\u001b[37m\u001b[0m \u001b[1m603s\u001b[0m 163ms/step - accuracy: 0.9053 - loss: 0.3621 - val_accuracy: 0.9045 - val_loss: 0.3153\n",
            "Epoch 2/10\n",
            "\u001b[1m2826/2826\u001b[0m \u001b[32m━━━━━━━━━━━━━━━━━━━━\u001b[0m\u001b[37m\u001b[0m \u001b[1m590s\u001b[0m 194ms/step - accuracy: 0.9047 - loss: 0.3153 - val_accuracy: 0.9045 - val_loss: 0.3154\n",
            "Epoch 3/10\n",
            "\u001b[1m2826/2826\u001b[0m \u001b[32m━━━━━━━━━━━━━━━━━━━━\u001b[0m\u001b[37m\u001b[0m \u001b[1m460s\u001b[0m 158ms/step - accuracy: 0.9056 - loss: 0.3135 - val_accuracy: 0.9045 - val_loss: 0.3151\n",
            "Epoch 4/10\n",
            "\u001b[1m2826/2826\u001b[0m \u001b[32m━━━━━━━━━━━━━━━━━━━━\u001b[0m\u001b[37m\u001b[0m \u001b[1m419s\u001b[0m 148ms/step - accuracy: 0.9064 - loss: 0.3118 - val_accuracy: 0.9045 - val_loss: 0.3154\n",
            "Epoch 5/10\n",
            "\u001b[1m2826/2826\u001b[0m \u001b[32m━━━━━━━━━━━━━━━━━━━━\u001b[0m\u001b[37m\u001b[0m \u001b[1m435s\u001b[0m 154ms/step - accuracy: 0.9051 - loss: 0.3149 - val_accuracy: 0.9045 - val_loss: 0.3152\n",
            "Epoch 6/10\n",
            "\u001b[1m2826/2826\u001b[0m \u001b[32m━━━━━━━━━━━━━━━━━━━━\u001b[0m\u001b[37m\u001b[0m \u001b[1m405s\u001b[0m 140ms/step - accuracy: 0.9042 - loss: 0.3164 - val_accuracy: 0.9045 - val_loss: 0.3161\n",
            "Epoch 7/10\n",
            "\u001b[1m2826/2826\u001b[0m \u001b[32m━━━━━━━━━━━━━━━━━━━━\u001b[0m\u001b[37m\u001b[0m \u001b[1m359s\u001b[0m 127ms/step - accuracy: 0.9045 - loss: 0.3158 - val_accuracy: 0.9045 - val_loss: 0.3151\n",
            "Epoch 8/10\n",
            "\u001b[1m2826/2826\u001b[0m \u001b[32m━━━━━━━━━━━━━━━━━━━━\u001b[0m\u001b[37m\u001b[0m \u001b[1m437s\u001b[0m 147ms/step - accuracy: 0.9049 - loss: 0.3146 - val_accuracy: 0.9045 - val_loss: 0.3151\n",
            "Epoch 9/10\n",
            "\u001b[1m2826/2826\u001b[0m \u001b[32m━━━━━━━━━━━━━━━━━━━━\u001b[0m\u001b[37m\u001b[0m \u001b[1m417s\u001b[0m 138ms/step - accuracy: 0.9058 - loss: 0.3124 - val_accuracy: 0.9045 - val_loss: 0.3151\n",
            "Epoch 10/10\n",
            "\u001b[1m2826/2826\u001b[0m \u001b[32m━━━━━━━━━━━━━━━━━━━━\u001b[0m\u001b[37m\u001b[0m \u001b[1m412s\u001b[0m 127ms/step - accuracy: 0.9061 - loss: 0.3117 - val_accuracy: 0.9045 - val_loss: 0.3155\n"
          ]
        },
        {
          "name": "stderr",
          "output_type": "stream",
          "text": [
            "2024/06/26 18:50:11 WARNING mlflow.keras.save: You are saving a Keras model without specifying model signature.\n",
            "2024/06/26 18:52:14 WARNING mlflow.utils.environment: Encountered an unexpected error while inferring pip requirements (model URI: C:\\Users\\ende\\AppData\\Local\\Temp\\tmpqwvzb_re\\model, flavor: keras). Fall back to return ['keras==3.4.0']. Set logging level to DEBUG to see the full traceback. \n"
          ]
        },
        {
          "name": "stdout",
          "output_type": "stream",
          "text": [
            "\u001b[1m1211/1211\u001b[0m \u001b[32m━━━━━━━━━━━━━━━━━━━━\u001b[0m\u001b[37m\u001b[0m \u001b[1m55s\u001b[0m 46ms/step - accuracy: 0.9063 - loss: 0.3113\n"
          ]
        }
      ],
      "source": [
        "# RNN Model\n",
        "rnn_model_credit = Sequential([\n",
        "    SimpleRNN(100, activation='relu', input_shape=(X_fraud_train_cnn_rnn.shape[1], 1)),\n",
        "    Dense(1, activation='sigmoid')\n",
        "])\n",
        "\n",
        "# Train and evaluate the RNN model using reshaped fraud data\n",
        "train_nn_model(rnn_model_credit, X_fraud_train_cnn_rnn, y_fraud_train, X_fraud_test_cnn_rnn, y_fraud_test, \"RNN\")\n"
      ]
    },
    {
      "cell_type": "code",
      "execution_count": 29,
      "metadata": {
        "id": "9hb0PtMHv1ru"
      },
      "outputs": [
        {
          "name": "stdout",
          "output_type": "stream",
          "text": [
            "Epoch 1/10\n",
            "\u001b[1m6207/6207\u001b[0m \u001b[32m━━━━━━━━━━━━━━━━━━━━\u001b[0m\u001b[37m\u001b[0m \u001b[1m478s\u001b[0m 75ms/step - accuracy: 0.9711 - loss: 47.0527 - val_accuracy: 0.9984 - val_loss: 32.1375\n",
            "Epoch 2/10\n",
            "\u001b[1m6207/6207\u001b[0m \u001b[32m━━━━━━━━━━━━━━━━━━━━\u001b[0m\u001b[37m\u001b[0m \u001b[1m403s\u001b[0m 65ms/step - accuracy: 0.9973 - loss: 19.2734 - val_accuracy: 0.9984 - val_loss: 144.8788\n",
            "Epoch 3/10\n",
            "\u001b[1m6207/6207\u001b[0m \u001b[32m━━━━━━━━━━━━━━━━━━━━\u001b[0m\u001b[37m\u001b[0m \u001b[1m523s\u001b[0m 84ms/step - accuracy: 0.9955 - loss: 32.9510 - val_accuracy: 0.9984 - val_loss: 6.2530\n",
            "Epoch 4/10\n",
            "\u001b[1m6207/6207\u001b[0m \u001b[32m━━━━━━━━━━━━━━━━━━━━\u001b[0m\u001b[37m\u001b[0m \u001b[1m498s\u001b[0m 80ms/step - accuracy: 0.9975 - loss: 3.2385 - val_accuracy: 0.9984 - val_loss: 1337.4928\n",
            "Epoch 5/10\n",
            "\u001b[1m6207/6207\u001b[0m \u001b[32m━━━━━━━━━━━━━━━━━━━━\u001b[0m\u001b[37m\u001b[0m \u001b[1m485s\u001b[0m 78ms/step - accuracy: 0.9934 - loss: 400.1309 - val_accuracy: 0.9984 - val_loss: 13.7833\n",
            "Epoch 6/10\n",
            "\u001b[1m6207/6207\u001b[0m \u001b[32m━━━━━━━━━━━━━━━━━━━━\u001b[0m\u001b[37m\u001b[0m \u001b[1m526s\u001b[0m 85ms/step - accuracy: 0.9970 - loss: 13.4971 - val_accuracy: 0.9984 - val_loss: 0.8881\n",
            "Epoch 7/10\n",
            "\u001b[1m6207/6207\u001b[0m \u001b[32m━━━━━━━━━━━━━━━━━━━━\u001b[0m\u001b[37m\u001b[0m \u001b[1m478s\u001b[0m 71ms/step - accuracy: 0.9947 - loss: 39.9670 - val_accuracy: 0.9984 - val_loss: 7.0550\n",
            "Epoch 8/10\n",
            "\u001b[1m6207/6207\u001b[0m \u001b[32m━━━━━━━━━━━━━━━━━━━━\u001b[0m\u001b[37m\u001b[0m \u001b[1m403s\u001b[0m 65ms/step - accuracy: 0.9976 - loss: 66.0646 - val_accuracy: 0.9984 - val_loss: 59.0823\n",
            "Epoch 9/10\n",
            "\u001b[1m6207/6207\u001b[0m \u001b[32m━━━━━━━━━━━━━━━━━━━━\u001b[0m\u001b[37m\u001b[0m \u001b[1m426s\u001b[0m 69ms/step - accuracy: 0.9955 - loss: 35.4749 - val_accuracy: 0.9984 - val_loss: 5.6995\n",
            "Epoch 10/10\n",
            "\u001b[1m6207/6207\u001b[0m \u001b[32m━━━━━━━━━━━━━━━━━━━━\u001b[0m\u001b[37m\u001b[0m \u001b[1m412s\u001b[0m 66ms/step - accuracy: 0.9970 - loss: 36.5000 - val_accuracy: 0.9984 - val_loss: 153.8745\n"
          ]
        },
        {
          "name": "stderr",
          "output_type": "stream",
          "text": [
            "2024/06/26 20:10:36 WARNING mlflow.keras.save: You are saving a Keras model without specifying model signature.\n",
            "2024/06/26 20:12:43 WARNING mlflow.utils.environment: Encountered an unexpected error while inferring pip requirements (model URI: C:\\Users\\ende\\AppData\\Local\\Temp\\tmp976y5myi\\model, flavor: keras). Fall back to return ['keras==3.4.0']. Set logging level to DEBUG to see the full traceback. \n"
          ]
        },
        {
          "name": "stdout",
          "output_type": "stream",
          "text": [
            "\u001b[1m2660/2660\u001b[0m \u001b[32m━━━━━━━━━━━━━━━━━━━━\u001b[0m\u001b[37m\u001b[0m \u001b[1m67s\u001b[0m 25ms/step - accuracy: 0.9984 - loss: 154.6166\n"
          ]
        }
      ],
      "source": [
        "# LSTM\n",
        "lstm_model_credit = Sequential([\n",
        "    LSTM(100, activation='relu', input_shape=(X_credit_train_cnn_rnn.shape[1], 1)),\n",
        "    Dense(1, activation='sigmoid')\n",
        "])\n",
        "train_nn_model(lstm_model_credit, X_credit_train_cnn_rnn, y_credit_train, X_credit_test_cnn_rnn, y_credit_test, \"LSTM\")\n"
      ]
    },
    {
      "cell_type": "code",
      "execution_count": 30,
      "metadata": {
        "colab": {
          "base_uri": "https://localhost:8080/"
        },
        "id": "PLQLMnl82hsw",
        "outputId": "37dc0848-0fb2-4b0f-e3f8-5c0c22be3641"
      },
      "outputs": [
        {
          "name": "stdout",
          "output_type": "stream",
          "text": [
            "Epoch 1/10\n",
            "\u001b[1m2826/2826\u001b[0m \u001b[32m━━━━━━━━━━━━━━━━━━━━\u001b[0m\u001b[37m\u001b[0m \u001b[1m1179s\u001b[0m 407ms/step - accuracy: 0.8986 - loss: nan - val_accuracy: 0.9045 - val_loss: nan\n",
            "Epoch 2/10\n",
            "\u001b[1m2826/2826\u001b[0m \u001b[32m━━━━━━━━━━━━━━━━━━━━\u001b[0m\u001b[37m\u001b[0m \u001b[1m1225s\u001b[0m 434ms/step - accuracy: 0.9070 - loss: nan - val_accuracy: 0.9045 - val_loss: nan\n",
            "Epoch 3/10\n",
            "\u001b[1m2826/2826\u001b[0m \u001b[32m━━━━━━━━━━━━━━━━━━━━\u001b[0m\u001b[37m\u001b[0m \u001b[1m1106s\u001b[0m 391ms/step - accuracy: 0.9045 - loss: nan - val_accuracy: 0.9045 - val_loss: nan\n",
            "Epoch 4/10\n",
            "\u001b[1m2826/2826\u001b[0m \u001b[32m━━━━━━━━━━━━━━━━━━━━\u001b[0m\u001b[37m\u001b[0m \u001b[1m1220s\u001b[0m 432ms/step - accuracy: 0.9062 - loss: nan - val_accuracy: 0.9045 - val_loss: nan\n",
            "Epoch 5/10\n",
            "\u001b[1m2826/2826\u001b[0m \u001b[32m━━━━━━━━━━━━━━━━━━━━\u001b[0m\u001b[37m\u001b[0m \u001b[1m1002s\u001b[0m 354ms/step - accuracy: 0.9052 - loss: nan - val_accuracy: 0.9045 - val_loss: nan\n",
            "Epoch 6/10\n",
            "\u001b[1m2826/2826\u001b[0m \u001b[32m━━━━━━━━━━━━━━━━━━━━\u001b[0m\u001b[37m\u001b[0m \u001b[1m1034s\u001b[0m 366ms/step - accuracy: 0.9055 - loss: nan - val_accuracy: 0.9045 - val_loss: nan\n",
            "Epoch 7/10\n",
            "\u001b[1m2826/2826\u001b[0m \u001b[32m━━━━━━━━━━━━━━━━━━━━\u001b[0m\u001b[37m\u001b[0m \u001b[1m1223s\u001b[0m 433ms/step - accuracy: 0.9049 - loss: nan - val_accuracy: 0.9045 - val_loss: nan\n",
            "Epoch 8/10\n",
            "\u001b[1m2826/2826\u001b[0m \u001b[32m━━━━━━━━━━━━━━━━━━━━\u001b[0m\u001b[37m\u001b[0m \u001b[1m1197s\u001b[0m 423ms/step - accuracy: 0.9062 - loss: nan - val_accuracy: 0.9045 - val_loss: nan\n",
            "Epoch 9/10\n",
            "\u001b[1m2826/2826\u001b[0m \u001b[32m━━━━━━━━━━━━━━━━━━━━\u001b[0m\u001b[37m\u001b[0m \u001b[1m1192s\u001b[0m 422ms/step - accuracy: 0.9063 - loss: nan - val_accuracy: 0.9045 - val_loss: nan\n",
            "Epoch 10/10\n",
            "\u001b[1m2826/2826\u001b[0m \u001b[32m━━━━━━━━━━━━━━━━━━━━\u001b[0m\u001b[37m\u001b[0m \u001b[1m1258s\u001b[0m 445ms/step - accuracy: 0.9071 - loss: nan - val_accuracy: 0.9045 - val_loss: nan\n"
          ]
        },
        {
          "name": "stderr",
          "output_type": "stream",
          "text": [
            "2024/06/26 23:28:17 WARNING mlflow.keras.save: You are saving a Keras model without specifying model signature.\n",
            "2024/06/26 23:30:33 WARNING mlflow.utils.environment: Encountered an unexpected error while inferring pip requirements (model URI: C:\\Users\\ende\\AppData\\Local\\Temp\\tmp5f94crel\\model, flavor: keras). Fall back to return ['keras==3.4.0']. Set logging level to DEBUG to see the full traceback. \n"
          ]
        },
        {
          "name": "stdout",
          "output_type": "stream",
          "text": [
            "\u001b[1m1211/1211\u001b[0m \u001b[32m━━━━━━━━━━━━━━━━━━━━\u001b[0m\u001b[37m\u001b[0m \u001b[1m232s\u001b[0m 190ms/step - accuracy: 0.9063 - loss: nan\n"
          ]
        }
      ],
      "source": [
        "# LSTM Model\n",
        "lstm_model_fraud = Sequential([\n",
        "    LSTM(100, activation='relu', input_shape=(X_fraud_train_cnn_rnn.shape[1], 1)),\n",
        "    Dense(1, activation='sigmoid')\n",
        "])\n",
        "\n",
        "# Train and evaluate the LSTM model using reshaped fraud data\n",
        "train_nn_model(lstm_model_fraud, X_fraud_train_cnn_rnn, y_fraud_train, X_fraud_test_cnn_rnn, y_fraud_test, \"LSTM\")\n"
      ]
    },
    {
      "cell_type": "code",
      "execution_count": 12,
      "metadata": {},
      "outputs": [],
      "source": [
        "# saved best performing model as fraud_model.pkl\n",
        "# Save the model to disk\n",
        "import pickle\n",
        "model=rf_fraud\n",
        "filename = '../Models/fraud_model.pkl'\n",
        "pickle.dump(model, open(filename, 'wb'))"
      ]
    },
    {
      "cell_type": "code",
      "execution_count": 1,
      "metadata": {},
      "outputs": [
        {
          "name": "stdout",
          "output_type": "stream",
          "text": [
            "Predicted class (0: Not fraud, 1: Fraud): 0\n"
          ]
        }
      ],
      "source": [
        "# Save the model to disk\n",
        "import pickle\n",
        "import pandas as pd\n",
        "\n",
        "# Load the model\n",
        "filename = '../Models/fraud_model.pkl'\n",
        "loaded_model = pickle.load(open(filename, 'rb'))\n",
        "\n",
        "# Create random data (replace with your actual features)\n",
        "random_data = {\n",
        "    'transaction_count_per_day': 0.8,\n",
        "    'transaction_velocity_past_hour': 0.6,\n",
        "    'age': 30,\n",
        "    'purchase_value': 50,\n",
        "    'source_Ads': 1,\n",
        "    'source_Direct': 0,\n",
        "    'source_SEO': 0,\n",
        "    'browser_Chrome': 1,\n",
        "    'browser_FireFox': 0,\n",
        "    'browser_IE': 0,\n",
        "    'browser_Opera': 0,\n",
        "    'browser_Safari': 0,\n",
        "    'sex_F': 1,\n",
        "    'sex_M': 0,\n",
        "    'country_Afghanistan': 0,\n",
        "    'country_Albania': 0,\n",
        "    'country_Algeria': 0,\n",
        "    'country_United States': 1,\n",
        "    # Add other country categorical features with 0 values...\n",
        "}\n",
        "\n",
        "# Ensure all required features are present in the random data\n",
        "required_features = loaded_model.feature_names_in_\n",
        "for feature in required_features:\n",
        "    if feature not in random_data:\n",
        "        random_data[feature] = 0\n",
        "\n",
        "# Convert to DataFrame\n",
        "random_df = pd.DataFrame([random_data])\n",
        "\n",
        "# Reorder columns to match the training data\n",
        "random_df = random_df[required_features]\n",
        "\n",
        "# Make predictions\n",
        "predictions = loaded_model.predict(random_df)\n",
        "\n",
        "print(\"Predicted class (0: Not fraud, 1: Fraud):\", predictions[0])\n"
      ]
    },
    {
      "cell_type": "code",
      "execution_count": 2,
      "metadata": {},
      "outputs": [
        {
          "name": "stdout",
          "output_type": "stream",
          "text": [
            "{'prediction': 0}\n"
          ]
        }
      ],
      "source": [
        "import requests\n",
        "\n",
        "url = 'http://localhost:5000/predict'\n",
        "headers = {'Content-Type': 'application/json'}\n",
        "data = {\n",
        "    \"transaction_count_per_day\": 0.8,\n",
        "    \"transaction_velocity_past_hour\": 0.6,\n",
        "    \"age\": 30,\n",
        "    \"purchase_value\": 50,\n",
        "    \"source_Ads\": 1,\n",
        "    \"source_Direct\": 0,\n",
        "    \"source_SEO\": 0,\n",
        "    \"browser_Chrome\": 1,\n",
        "    \"browser_IE\": 0,\n",
        "    \"browser_Safari\": 0,\n",
        "    \"sex_F\": 1,\n",
        "    \"sex_M\": 0,\n",
        "    \"country_United States\": 1\n",
        "}\n",
        "\n",
        "response = requests.post(url, json=data, headers=headers)\n",
        "print(response.json())\n"
      ]
    }
  ],
  "metadata": {
    "colab": {
      "provenance": []
    },
    "kernelspec": {
      "display_name": "Python 3",
      "name": "python3"
    },
    "language_info": {
      "codemirror_mode": {
        "name": "ipython",
        "version": 3
      },
      "file_extension": ".py",
      "mimetype": "text/x-python",
      "name": "python",
      "nbconvert_exporter": "python",
      "pygments_lexer": "ipython3",
      "version": "3.12.3"
    }
  },
  "nbformat": 4,
  "nbformat_minor": 0
}
